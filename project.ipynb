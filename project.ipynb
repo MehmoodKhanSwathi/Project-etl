{
 "cells": [
  {
   "cell_type": "code",
   "execution_count": 5,
   "metadata": {},
   "outputs": [],
   "source": [
    "from io import StringIO\n",
    "import requests\n",
    "from bs4 import BeautifulSoup\n",
    "import pandas as pd\n",
    "import sqlite3\n",
    "from datetime import datetime\n",
    "from icecream import ic"
   ]
  },
  {
   "cell_type": "code",
   "execution_count": 1,
   "metadata": {},
   "outputs": [],
   "source": [
    "def log_progress(message):\n",
    "    \"\"\"This function log the mentioned message of a given stage of the\n",
    "    code execution to a log file.funtion return nothing\"\"\"\n",
    "    with open('./logs/code_log.txt','a') as f:\n",
    "        f.write(f'{datetime.now()}:{message}\\n')"
   ]
  },
  {
   "cell_type": "code",
   "execution_count": 15,
   "metadata": {},
   "outputs": [],
   "source": [
    "def extract(url,table_attributes):\n",
    "    \"\"\" This function aims to extract the required\n",
    "    information from the website and save it to a data frame. The\n",
    "    function returns the data frame for further processing. \"\"\"\n",
    "    \n",
    "    soup = BeautifulSoup(requests.get(url).text, 'html.parser')\n",
    "    # print(soup)\n",
    "    table = soup.find('span', string=table_attributes).find_next('table')\n",
    "    # soup=BeautifulSoup(requests.get(url).text,'html.parser')\n",
    "    # table=soup.find('span',string=table_attributes).find_next('table')\n",
    "    df=pd.read_html(StringIO(str(table)))[0]\n",
    "    \n",
    "    log_progress('Data extraction.complete.Initiating Transformation process')\n",
    "    \n",
    "    return df"
   ]
  },
  {
   "cell_type": "code",
   "execution_count": 25,
   "metadata": {},
   "outputs": [],
   "source": [
    "def transform(df,csv_path):\n",
    "  \n",
    "  \"\"\" This function accesses the CSV file for exchange rate\n",
    "  information, and adds three columns to the data frame, each\n",
    "  containing the transformed version of Market Cap column to\n",
    "  respective currencies\"\"\"\n",
    "     \n",
    "  exchange_rate=pd.read_csv(csv_path,index_col=0).to_dict()['Rate']\n",
    "    \n",
    "  df['MC_GBP_Billion'] = round(df['Market cap (US$ billion)'] * exchange_rate['GBP'], 2)\n",
    "  df['MC_EUR_Billion'] = round(df['Market cap (US$ billion)'] * exchange_rate['EUR'], 2)\n",
    "  df['MC_INR_Billion'] = round(df['Market cap (US$ billion)'] * exchange_rate['INR'], 2)\n",
    "    \n",
    "  (df['MC_EUR_Billion'][4])\n",
    "\n",
    "  log_progress('Data transformation complete. Initiating Loading process')\n",
    "\n",
    "  return df "
   ]
  },
  {
   "cell_type": "code",
   "execution_count": 43,
   "metadata": {},
   "outputs": [],
   "source": [
    "def load_to_csv(df,output_path):\n",
    "    \"\"\" This function saves the final data frame as a CSV file in\n",
    "    the provided path. Function returns nothing.\"\"\"\n",
    "    print(output_path)\n",
    "    df.to_csv(output_path)\n",
    "    \n",
    "    log_progress('data saved to csv file')"
   ]
  },
  {
   "cell_type": "code",
   "execution_count": 34,
   "metadata": {},
   "outputs": [],
   "source": [
    "def load_to_db(df, sql_connection, table_name):\n",
    "    \"\"\" This function saves the final data frame to a database\n",
    "    table with the provided name. Function returns nothing.\"\"\"\n",
    "\n",
    "    df.to_sql(table_name, sql_connection, if_exists='replace', index=False)\n",
    "\n",
    "    log_progress('Data loaded to Database as a table, Executing queries')"
   ]
  },
  {
   "cell_type": "code",
   "execution_count": 38,
   "metadata": {},
   "outputs": [],
   "source": []
  },
  {
   "cell_type": "code",
   "execution_count": 53,
   "metadata": {},
   "outputs": [
    {
     "name": "stdout",
     "output_type": "stream",
     "text": [
      "./output/lagest_Bank_Data.csv\n",
      "[(1, 'JPMorgan Chase', 432.92, 346.34, 402.62, 35910.71), (2, 'Bank of America', 231.52, 185.22, 215.31, 19204.58), (3, 'Industrial and Commercial Bank of China', 194.56, 155.65, 180.94, 16138.75), (4, 'Agricultural Bank of China', 160.68, 128.54, 149.43, 13328.41), (5, 'HDFC Bank', 157.91, 126.33, 146.86, 13098.63), (6, 'Wells Fargo', 155.87, 124.7, 144.96, 12929.42), (7, 'HSBC Holdings PLC', 148.9, 119.12, 138.48, 12351.26), (8, 'Morgan Stanley', 140.83, 112.66, 130.97, 11681.85), (9, 'China Construction Bank', 139.82, 111.86, 130.03, 11598.07), (10, 'Bank of China', 136.81, 109.45, 127.23, 11348.39)]\n",
      "[(151.98700000000002,)]\n",
      "[('JPMorgan Chase',), ('Bank of America',), ('Industrial and Commercial Bank of China',), ('Agricultural Bank of China',), ('HDFC Bank',)]\n"
     ]
    }
   ],
   "source": [
    "if __name__ == \"__main__\":\n",
    "    url='https://web.archive.org/web/20230908091635/https://en.wikipedia.org/wiki/List_of_largest_banks'\n",
    "    output='./output/lagest_Bank_Data.csv'\n",
    "    database='./output/Bank.db'\n",
    "    table_name='Largest_bank'\n",
    "    \n",
    "    log_progress('Premilinar complete.Initiating ETL Process')\n",
    "    \n",
    "    df=extract(url,'By market capitalization')\n",
    "     # print(df)\n",
    "    \n",
    "    df = transform(df,'./input/exchange_rate.csv')\n",
    "    # print(df)\n",
    "    load_to_csv(df,output)\n",
    "    \n",
    "    def run_querry(querry_statements , sql_connection):\n",
    "        \"\"\"This function runs the querry on the database table\n",
    "        and prints the output on the terminal.Function require nothing.\"\"\"\n",
    "        \n",
    "        cursor = sql_connection.cursor()\n",
    "        cursor.execute(querry_statements)\n",
    "        result = cursor.fetchall()\n",
    "        \n",
    "        #for now in result:\n",
    "        # ic(row)\n",
    "        \n",
    "        log_progress('process Complete')\n",
    "        return result\n",
    "    \n",
    "    with sqlite3.connect(database) as conn:\n",
    "        load_to_db(df, conn, table_name)\n",
    "\n",
    "        print(run_querry('SELECT * FROM Largest_bank', conn))\n",
    "\n",
    "        print(run_querry('SELECT AVG(MC_GBP_Billion) FROM Largest_bank', conn))\n",
    "\n",
    "        print(run_querry('SELECT \"Bank name\" FROM Largest_bank LIMIT 5', conn))"
   ]
  },
  {
   "cell_type": "code",
   "execution_count": null,
   "metadata": {},
   "outputs": [],
   "source": []
  }
 ],
 "metadata": {
  "kernelspec": {
   "display_name": "base",
   "language": "python",
   "name": "python3"
  },
  "language_info": {
   "codemirror_mode": {
    "name": "ipython",
    "version": 3
   },
   "file_extension": ".py",
   "mimetype": "text/x-python",
   "name": "python",
   "nbconvert_exporter": "python",
   "pygments_lexer": "ipython3",
   "version": "3.11.5"
  }
 },
 "nbformat": 4,
 "nbformat_minor": 2
}
